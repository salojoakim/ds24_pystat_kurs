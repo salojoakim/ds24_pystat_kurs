{
 "cells": [
  {
   "cell_type": "markdown",
   "id": "92b5c548-e8ea-4ce8-a138-b3343118191b",
   "metadata": {},
   "source": [
    "# Uppgifter, Kapitel 5 - Funktioner"
   ]
  },
  {
   "cell_type": "markdown",
   "id": "502784d2-d030-4e1d-8a09-b0b7e2814b63",
   "metadata": {},
   "source": [
    "1. Vad är funktioner för något? "
   ]
  },
  {
   "cell_type": "markdown",
   "id": "bf3c8e1b",
   "metadata": {},
   "source": [
    "En funktion är en definerad sektion med kod som utför en specifik uppgift"
   ]
  },
  {
   "cell_type": "markdown",
   "id": "f157afb8-a424-4ea6-a749-ad29f71265d6",
   "metadata": {},
   "source": [
    "2. Vad är parametrar och argument för något? "
   ]
  },
  {
   "cell_type": "markdown",
   "id": "4059c010",
   "metadata": {},
   "source": [
    "Paramterar är variablar som deklareras i funktionens definition. Argument är värdet som skickas till funktionen när funktionen är kallad."
   ]
  },
  {
   "cell_type": "markdown",
   "id": "f2b788f5-5052-43cb-9530-9d57c3aa8425",
   "metadata": {},
   "source": [
    "3. Skapa en funktion som heter \"uppercase_converter\". Funktionen skall ta en sträng som ett argument och returnera strängen med stora bokstäver (versaler). Exempel: uppercase_converter(\"hello\") skall returnera \"HELLO\"."
   ]
  },
  {
   "cell_type": "code",
   "execution_count": 14,
   "id": "69fd003d-4e6d-41bf-b70e-23f3694a6afe",
   "metadata": {},
   "outputs": [
    {
     "name": "stdout",
     "output_type": "stream",
     "text": [
      "HELLO\n"
     ]
    }
   ],
   "source": [
    "def uppercase_converter(str):\n",
    "    return str.upper()\n",
    "\n",
    "result = uppercase_converter(\"hello\")\n",
    "print(result)"
   ]
  },
  {
   "cell_type": "markdown",
   "id": "60f2c868-0651-4b74-b1ec-fa193b970fc2",
   "metadata": {},
   "source": [
    "4. Skapa en funktion \"add_subtract_function\" som tar två argument och som resturnerar både summan och subtraktionen av de två talen i en tuple. Funktionen skall alltså returnera två resultat.\n",
    "   \n",
    "   Exempel: add_subtract_function(7, 3) skall returnera resultatet (10, 4). "
   ]
  },
  {
   "cell_type": "code",
   "execution_count": 12,
   "id": "4442d5c3-35be-4536-9c26-cb984588b93c",
   "metadata": {},
   "outputs": [
    {
     "name": "stdout",
     "output_type": "stream",
     "text": [
      "(12, 4)\n"
     ]
    }
   ],
   "source": [
    "def add_subtract_function(a, b):\n",
    "    ##addition = a + b\n",
    "    ##subtraktion = a - b\n",
    "    ##return(addition, subtraktion)\n",
    "    return ((a+b), (a-b))\n",
    "    \n",
    "##result2 = add_subtract_function(7,3)\n",
    "print(add_subtract_function(8,4))"
   ]
  },
  {
   "cell_type": "markdown",
   "id": "504cae43-4001-4135-9cda-06430007768b",
   "metadata": {},
   "source": [
    "5. Skapa en funktion som innehåller minst en \"endast-positionsparameter\", minst en \"positions-eller-nyckelordsparameter\" samt minst en \"endast-nyckelordsparameter\". Ledning: f(pos_only, /, pos_or_kwd, *, kwd_only). "
   ]
  },
  {
   "cell_type": "code",
   "execution_count": 13,
   "id": "bf6cd607-a4ea-4dbe-bd4d-097145763903",
   "metadata": {},
   "outputs": [],
   "source": [
    "def paramfunction(a, /):\n",
    "    return a\n",
    "\n",
    "def paramfunction2(b):\n",
    "    return b\n",
    "\n",
    "def paramfunction3(*, c):\n",
    "    return c\n",
    "\n",
    "def combinedparamfunction(d, /, e, *, f):\n",
    "    return (d,e,f)"
   ]
  },
  {
   "cell_type": "markdown",
   "id": "3c54c834-bc82-49b7-8dad-57285e90a6a5",
   "metadata": {},
   "source": [
    "6. Förklara vad nedanstående kod gör. "
   ]
  },
  {
   "cell_type": "code",
   "execution_count": 22,
   "id": "86176bac-61f1-4bc4-9332-a85dcb226314",
   "metadata": {},
   "outputs": [
    {
     "data": {
      "text/plain": [
       "10"
      ]
     },
     "execution_count": 22,
     "metadata": {},
     "output_type": "execute_result"
    }
   ],
   "source": [
    "def my_sum_function(x1, x2):\n",
    "    return x1 + x2\n",
    "\n",
    "a = my_sum_function\n",
    "\n",
    "a(3, 7)"
   ]
  },
  {
   "cell_type": "markdown",
   "id": "7e18e9f3",
   "metadata": {},
   "source": [
    "En funktion deklareras med två pos eller nyckelordsparametrar. Funktionen returnerar summan av dessa två argument. <br>\n",
    "Vi skapar en ny variabel \"a\" som vi tilldelar till funktionen. Sista raden exekverar funktionen med argumenten 1 och 2."
   ]
  },
  {
   "cell_type": "markdown",
   "id": "5fff27c2-3dcc-4e6c-a748-0322b4fbdf5f",
   "metadata": {},
   "source": [
    "7. Skriv en funktion som du kallar för \"add_or_multiply\". Funktionen \"add_or_multiply\" skall ta tre argument. De första två är tal medans det tredje specificierar huruvida du önskar addera eller multiplicera de två talen. Om användaren av funktionen varken specificerar \"add\" eller \"multiply\" som det tredje argumentet så skall meddeleandet \"Choose either \"add\" or \"multiply\". \"  printas ut. \n",
    "\n",
    "    Exempel: \n",
    "    \n",
    "    \"add_or_multiply(2, 5, \"add\") = 7\"\n",
    "    \n",
    "    \"add_or_multiply(2, 5, \"multiply\") = 10\"\n",
    "    \n",
    "    \"add_or_multiply(2, 5, \"Wrong\")\" skall printa ut meddelandet: Choose either \"add\" or \"multiply\". \n"
   ]
  },
  {
   "cell_type": "code",
   "execution_count": 26,
   "id": "f647a4d3-fff9-486d-84b5-504902f6bcef",
   "metadata": {},
   "outputs": [
    {
     "name": "stdout",
     "output_type": "stream",
     "text": [
      "3\n",
      "Choose either \"Add\" or \"Multiply\"\n",
      "Choose either \"Add\" or \"Multiply\"\n"
     ]
    }
   ],
   "source": [
    "def add_or_multiply(a,b,str1):\n",
    "    ##wrong = 'Choose either \"Add\" or \"Multiply\"'\n",
    "    if str1 == (\"Add\"):\n",
    "        return a+b\n",
    "    elif str1 == (\"Multiply\"):\n",
    "        return a*b\n",
    "    else:\n",
    "        return 'Choose either \"Add\" or \"Multiply\"'\n",
    "\n",
    "\n",
    "print(add_or_multiply(1,2,\"Add\"))\n",
    "print(add_or_multiply(1,2,4532))\n",
    "print(add_or_multiply(2,3, \"ss\"))"
   ]
  },
  {
   "cell_type": "code",
   "execution_count": 33,
   "id": "4ee9a284",
   "metadata": {},
   "outputs": [
    {
     "name": "stdout",
     "output_type": "stream",
     "text": [
      "Help on method raw_input in module ipykernel.kernelbase:\n",
      "\n",
      "raw_input(prompt='') method of ipykernel.ipkernel.IPythonKernel instance\n",
      "    Forward raw_input to frontends\n",
      "\n",
      "    Raises\n",
      "    ------\n",
      "    StdinNotImplementedError if active frontend doesn't support stdin.\n",
      "\n"
     ]
    }
   ],
   "source": [
    "help(input)"
   ]
  },
  {
   "cell_type": "markdown",
   "id": "f2b68363-ac11-4a0b-b25d-292b0ffaca60",
   "metadata": {},
   "source": [
    "8. Kör koden nedan och förklara vad som sker. "
   ]
  },
  {
   "cell_type": "code",
   "execution_count": 9,
   "id": "491108e5-7182-47b5-ae21-45a0aa05c547",
   "metadata": {},
   "outputs": [
    {
     "name": "stdout",
     "output_type": "stream",
     "text": [
      "Mom, I met a person whos name is: Elon Musk\n"
     ]
    }
   ],
   "source": [
    "name = input('What is your name dear stranger?')\n",
    "print('Mom, I met a person whos name is:', name)"
   ]
  },
  {
   "cell_type": "markdown",
   "id": "f21d5da9",
   "metadata": {},
   "source": [
    "Input funktionen tar input från slutanvändaren"
   ]
  },
  {
   "cell_type": "code",
   "execution_count": null,
   "id": "269fa898-e8ae-47e9-ad69-85b999ececcc",
   "metadata": {},
   "outputs": [],
   "source": []
  }
 ],
 "metadata": {
  "kernelspec": {
   "display_name": "Python 3 (ipykernel)",
   "language": "python",
   "name": "python3"
  },
  "language_info": {
   "codemirror_mode": {
    "name": "ipython",
    "version": 3
   },
   "file_extension": ".py",
   "mimetype": "text/x-python",
   "name": "python",
   "nbconvert_exporter": "python",
   "pygments_lexer": "ipython3",
   "version": "3.12.4"
  }
 },
 "nbformat": 4,
 "nbformat_minor": 5
}
