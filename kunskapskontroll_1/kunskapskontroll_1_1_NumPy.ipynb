{
 "cells": [
  {
   "cell_type": "markdown",
   "id": "dacf74e6",
   "metadata": {},
   "source": [
    "# NumPy"
   ]
  },
  {
   "cell_type": "markdown",
   "id": "01b2bf34",
   "metadata": {},
   "source": [
    "Read the links: https://numpy.org/doc/stable/user/quickstart.html  and https://numpy.org/doc/stable/user/basics.broadcasting.html  before solving the exercises. "
   ]
  },
  {
   "cell_type": "code",
   "execution_count": 2,
   "id": "1f79e4a6",
   "metadata": {},
   "outputs": [],
   "source": [
    "import numpy as np"
   ]
  },
  {
   "cell_type": "markdown",
   "id": "7dae6889",
   "metadata": {},
   "source": [
    "### Print out the dimension (number of axes), shape, size and the datatype of the matrix A."
   ]
  },
  {
   "cell_type": "code",
   "execution_count": 4,
   "id": "7b3678cd",
   "metadata": {},
   "outputs": [],
   "source": [
    "A = np.arange(1, 16).reshape(3,5)"
   ]
  },
  {
   "cell_type": "code",
   "execution_count": 10,
   "id": "31d39235",
   "metadata": {},
   "outputs": [
    {
     "name": "stdout",
     "output_type": "stream",
     "text": [
      "2\n",
      "(3, 5)\n",
      "15\n",
      "<memory at 0x000001F6FCB2BE00>\n",
      "<class 'numpy.ndarray'>\n"
     ]
    }
   ],
   "source": [
    "print(A.ndim)\n",
    "print(A.shape)\n",
    "print(A.size)\n",
    "print(A.data)\n",
    "print(type(A))"
   ]
  },
  {
   "cell_type": "markdown",
   "id": "e56d2a96",
   "metadata": {},
   "source": [
    "### Do the following computations on the matrices B and C: \n",
    "* Elementwise subtraction. \n",
    "* Elementwise multiplication. \n",
    "* Matrix multiplication (by default you should use the @ operator)."
   ]
  },
  {
   "cell_type": "code",
   "execution_count": 20,
   "id": "a7053fbb",
   "metadata": {},
   "outputs": [
    {
     "name": "stdout",
     "output_type": "stream",
     "text": [
      "[[1 2 3]\n",
      " [4 5 6]\n",
      " [7 8 9]]\n",
      "\n",
      "[[2. 2. 2.]\n",
      " [2. 2. 2.]\n",
      " [2. 2. 2.]]\n"
     ]
    }
   ],
   "source": [
    "B = np.arange(1, 10).reshape(3, 3)\n",
    "C = np.ones((3, 3))*2\n",
    "\n",
    "print(B)\n",
    "print()\n",
    "print(C)\n"
   ]
  },
  {
   "cell_type": "code",
   "execution_count": 19,
   "id": "3cd794ae",
   "metadata": {},
   "outputs": [
    {
     "name": "stdout",
     "output_type": "stream",
     "text": [
      "[[-1.  0.  1.]\n",
      " [ 2.  3.  4.]\n",
      " [ 5.  6.  7.]]\n",
      "[[ 2.  4.  6.]\n",
      " [ 8. 10. 12.]\n",
      " [14. 16. 18.]]\n",
      "[[12. 12. 12.]\n",
      " [30. 30. 30.]\n",
      " [48. 48. 48.]]\n"
     ]
    }
   ],
   "source": [
    "D = B - C\n",
    "\n",
    "print(D)\n",
    "\n",
    "E = B * C\n",
    "\n",
    "print(E)\n",
    "\n",
    "F = B @ C\n",
    "\n",
    "print (F)"
   ]
  },
  {
   "cell_type": "markdown",
   "id": "96030d53",
   "metadata": {},
   "source": [
    "### Do the following calculations on the matrix:\n",
    "* Exponentiate each number elementwise (use the np.exp function).\n",
    "\n",
    "* Calculate the minimum value in the whole matrix. \n",
    "* Calculcate the minimum value in each row. \n",
    "* Calculcate the minimum value in each column. \n",
    "\n",
    "\n",
    "* Find the index value for the minimum value in the whole matrix (hint: use np.argmin).\n",
    "* Find the index value for the minimum value in each row (hint: use np.argmin).\n",
    "\n",
    "\n",
    "* Calculate the sum for all elements.\n",
    "* Calculate the mean for each column. \n",
    "* Calculate the median for each column. "
   ]
  },
  {
   "cell_type": "code",
   "execution_count": 21,
   "id": "f8a9166b",
   "metadata": {},
   "outputs": [
    {
     "name": "stdout",
     "output_type": "stream",
     "text": [
      "[[1 2 3]\n",
      " [4 5 6]\n",
      " [7 8 9]]\n"
     ]
    }
   ],
   "source": [
    "B = np.arange(1, 10).reshape(3, 3)\n",
    "print(B)"
   ]
  },
  {
   "cell_type": "code",
   "execution_count": 48,
   "id": "f03f24f7",
   "metadata": {},
   "outputs": [
    {
     "name": "stdout",
     "output_type": "stream",
     "text": [
      "[[2.71828183e+00 7.38905610e+00 2.00855369e+01]\n",
      " [5.45981500e+01 1.48413159e+02 4.03428793e+02]\n",
      " [1.09663316e+03 2.98095799e+03 8.10308393e+03]]\n",
      "1\n",
      "[1 4 7]\n",
      "[1 2 3]\n",
      "0\n",
      "[0 0 0]\n",
      "[0 0 0]\n",
      "45\n",
      "[4. 5. 6.]\n",
      "[4. 5. 6.]\n"
     ]
    }
   ],
   "source": [
    "J = np.exp(B)\n",
    "\n",
    "print(J)\n",
    "print(B.min())\n",
    "print(B.min(1))\n",
    "print(B.min(0))\n",
    "print(B.argmin())\n",
    "print(B.argmin(1))\n",
    "print(B.argmin(0))\n",
    "\n",
    "print(B.sum())\n",
    "print(B.mean(0))\n",
    "\n",
    "median_for_b = np.median(B, 0)\n",
    "print(median_for_b)\n",
    "\n"
   ]
  },
  {
   "cell_type": "markdown",
   "id": "541eb7ba",
   "metadata": {},
   "source": [
    "### What does it mean when you provide fewer indices than axes when slicing? See example below."
   ]
  },
  {
   "cell_type": "code",
   "execution_count": 49,
   "id": "9c8abf56",
   "metadata": {},
   "outputs": [
    {
     "name": "stdout",
     "output_type": "stream",
     "text": [
      "[[ 1  2  3  4  5]\n",
      " [ 6  7  8  9 10]\n",
      " [11 12 13 14 15]]\n"
     ]
    }
   ],
   "source": [
    "print(A)"
   ]
  },
  {
   "cell_type": "code",
   "execution_count": 50,
   "id": "69415f7b",
   "metadata": {},
   "outputs": [
    {
     "data": {
      "text/plain": [
       "array([ 6,  7,  8,  9, 10])"
      ]
     },
     "execution_count": 50,
     "metadata": {},
     "output_type": "execute_result"
    }
   ],
   "source": [
    "A[1]"
   ]
  },
  {
   "cell_type": "markdown",
   "id": "6c53541b",
   "metadata": {},
   "source": [
    "**Answer:**"
   ]
  },
  {
   "cell_type": "markdown",
   "id": "162b7817",
   "metadata": {},
   "source": [
    "A[1] specifies that you are subsetting at and the entire row 1 (start count from 0, so second row in array)"
   ]
  },
  {
   "cell_type": "markdown",
   "id": "6652d0c9",
   "metadata": {},
   "source": [
    "### Iterating over multidimensional arrays is done with respect to the first axis, so in the example below we iterate trough the rows. If you would like to iterate through the array *elementwise*, how would you do that?"
   ]
  },
  {
   "cell_type": "code",
   "execution_count": 51,
   "id": "9459864f",
   "metadata": {},
   "outputs": [
    {
     "data": {
      "text/plain": [
       "array([[ 1,  2,  3,  4,  5],\n",
       "       [ 6,  7,  8,  9, 10],\n",
       "       [11, 12, 13, 14, 15]])"
      ]
     },
     "execution_count": 51,
     "metadata": {},
     "output_type": "execute_result"
    }
   ],
   "source": [
    "A"
   ]
  },
  {
   "cell_type": "code",
   "execution_count": 52,
   "id": "a671bb5a",
   "metadata": {},
   "outputs": [
    {
     "name": "stdout",
     "output_type": "stream",
     "text": [
      "[1 2 3 4 5]\n",
      "[ 6  7  8  9 10]\n",
      "[11 12 13 14 15]\n"
     ]
    }
   ],
   "source": [
    "for i in A:\n",
    "    print(i)"
   ]
  },
  {
   "cell_type": "code",
   "execution_count": 53,
   "id": "f4e443a0",
   "metadata": {},
   "outputs": [
    {
     "name": "stdout",
     "output_type": "stream",
     "text": [
      "1\n",
      "2\n",
      "3\n",
      "4\n",
      "5\n",
      "6\n",
      "7\n",
      "8\n",
      "9\n",
      "10\n",
      "11\n",
      "12\n",
      "13\n",
      "14\n",
      "15\n"
     ]
    }
   ],
   "source": [
    "for i in np.nditer(A):\n",
    "    print(i)"
   ]
  },
  {
   "cell_type": "markdown",
   "id": "608a2583",
   "metadata": {},
   "source": [
    "### Explain what the code below does. More specifically, b has three axes - what does this mean? "
   ]
  },
  {
   "cell_type": "code",
   "execution_count": 77,
   "id": "f8f9b26f",
   "metadata": {},
   "outputs": [
    {
     "name": "stdout",
     "output_type": "stream",
     "text": [
      "[ 0  1  2  3  4  5  6  7  8  9 10 11 12 13 14 15 16 17 18 19 20 21 22 23\n",
      " 24 25 26 27 28 29]\n",
      "\n",
      "[[[ 0  1  2  3  4]\n",
      "  [ 5  6  7  8  9]\n",
      "  [10 11 12 13 14]]\n",
      "\n",
      " [[15 16 17 18 19]\n",
      "  [20 21 22 23 24]\n",
      "  [25 26 27 28 29]]]\n",
      "start: [[[ 0  1  2  3  4  5  6  7  8  9]\n",
      "  [10 11 12 13 14 15 16 17 18 19]\n",
      "  [20 21 22 23 24 25 26 27 28 29]]]\n"
     ]
    }
   ],
   "source": [
    "a = np.arange(30)\n",
    "b = a.reshape((2, 3, -1))\n",
    "print(a)\n",
    "print()\n",
    "print(b)\n",
    "\n",
    "c = b.reshape(1, 3, -1)\n",
    "print(\"start:\", c)"
   ]
  },
  {
   "cell_type": "markdown",
   "id": "492032e6",
   "metadata": {},
   "source": [
    "It specifies how many rows the array will have. <br>\n",
    "We create an array from numpy using the arrange method from 0 to 30. <br>\n",
    "We declare a new variable b that has a's values but shaped into an array with 3 rows <br>"
   ]
  },
  {
   "cell_type": "markdown",
   "id": "ab5933d5",
   "metadata": {},
   "source": [
    "### Broadcasting\n",
    "**Read the following link about broadcasting: https://numpy.org/doc/stable/user/basics.broadcasting.html#basics-broadcasting**"
   ]
  },
  {
   "cell_type": "markdown",
   "id": "039805ba",
   "metadata": {},
   "source": [
    "# Remark on Broadcasting when doing Linear Algebra calculations in Python. "
   ]
  },
  {
   "cell_type": "markdown",
   "id": "c4bcc147",
   "metadata": {},
   "source": [
    "### From the mathematical rules of matrix addition, the operation below (m1 + m2) does not make sense. The reason is that matrix addition requires two matrices of the same size. In Python however, it works due to broadcasting rules in NumPy. So you must be careful when doing Linear Algebra calculations in Python since they do not follow the \"mathematical rules\". This can however easily be handled by doing some simple programming, for example validating that two matrices have the same shape is easy if you for instance want to add two matrices. "
   ]
  },
  {
   "cell_type": "code",
   "execution_count": 79,
   "id": "1fd46778",
   "metadata": {},
   "outputs": [
    {
     "name": "stdout",
     "output_type": "stream",
     "text": [
      "[[1 2]\n",
      " [3 4]]\n",
      "[1 1]\n",
      "[[2 3]\n",
      " [4 5]]\n"
     ]
    }
   ],
   "source": [
    "m1 = np.array([[1, 2], [3, 4]])\n",
    "m2 = np.array([1, 1])\n",
    "print(m1)\n",
    "print(m2)\n",
    "print(m1 + m2)"
   ]
  },
  {
   "cell_type": "markdown",
   "id": "047d6576",
   "metadata": {},
   "source": [
    "### The example below would also not be allowed if following the \"mathematical rules\" in Linear Algebra. But it works due to broadcasting in NumPy. "
   ]
  },
  {
   "cell_type": "code",
   "execution_count": 80,
   "id": "5e6ef2e4",
   "metadata": {},
   "outputs": [
    {
     "name": "stdout",
     "output_type": "stream",
     "text": [
      "[2 3 4]\n"
     ]
    }
   ],
   "source": [
    "v1 = np.array([1, 2, 3])\n",
    "print(v1 + 1)"
   ]
  },
  {
   "cell_type": "code",
   "execution_count": 81,
   "id": "e2cbae26",
   "metadata": {},
   "outputs": [
    {
     "name": "stdout",
     "output_type": "stream",
     "text": [
      "[[1 2]\n",
      " [3 4]]\n",
      "[2 2]\n"
     ]
    }
   ],
   "source": [
    "A = np.arange(1, 5).reshape(2,2)\n",
    "print(A)\n",
    "\n",
    "b = np.array([2, 2])\n",
    "print(b)"
   ]
  },
  {
   "cell_type": "markdown",
   "id": "722fd5cd",
   "metadata": {},
   "source": [
    "# Vector- and matrix algebra Exercises"
   ]
  },
  {
   "cell_type": "markdown",
   "id": "b63a3081-d976-4d9f-bfd0-a63917e79f7d",
   "metadata": {},
   "source": [
    "**Now you are going to create a function that can be reused every time you add or multiply matrices. The function is created so that we do the addition and multiplication according to the rules of vector- and matrix algebra.**\n",
    "\n",
    "**Create a function \"add_mult_matrices\" that takes two matrices as input arguments (validate that the input are of the type numpy.ndarray by using the isinstance function), a third argument that is either 'add' or 'multiply' that specifies if you want to add or multiply the matrices (validate that the third argument is either 'add' or 'multiply'). When doing matrix addition, validate that the matrices have the same size. When doing matrix multiplication, validate that the sizes conform (i.e. number of columns in the first matrix is equal to the number of rows in the second matrix).**"
   ]
  },
  {
   "cell_type": "code",
   "execution_count": 150,
   "id": "dc2bc890",
   "metadata": {},
   "outputs": [
    {
     "name": "stdout",
     "output_type": "stream",
     "text": [
      "V3: [[1 2 3]\n",
      " [4 5 6]\n",
      " [7 8 9]]\n",
      "\n",
      "V4: [[1 2 3]\n",
      " [4 5 6]\n",
      " [7 8 9]]\n",
      "\n",
      "[[ 2  4  6]\n",
      " [ 8 10 12]\n",
      " [14 16 18]]\n",
      "\n",
      "[[ 30  36  42]\n",
      " [ 66  81  96]\n",
      " [102 126 150]]\n",
      "\n",
      "V5: [[1 2 3]\n",
      " [4 5 6]]\n",
      "\n",
      "V6: [[ 5  6  7]\n",
      " [ 8  9 10]\n",
      " [11 12 13]]\n",
      "\n",
      "[[ 54  60  66]\n",
      " [126 141 156]]\n"
     ]
    }
   ],
   "source": [
    "\n",
    "def add_mult_matrices(a, b, c):\n",
    "    if not isinstance(a, np.ndarray) or not isinstance(b, np.ndarray):\n",
    "        raise TypeError(\"Both inputs must be numpy arrays.\")\n",
    "    \n",
    "    a_rows, a_cols = a.shape\n",
    "    b_rows, b_cols = b.shape\n",
    "    \n",
    "    if c == \"add\":\n",
    "        if a.shape == b.shape:  \n",
    "            return a + b\n",
    "        else:\n",
    "            raise ValueError(\"Matrices must have the same shape for addition.\")\n",
    "\n",
    "    elif c == \"multiply\":\n",
    "        if a_cols == b_rows: \n",
    "            return np.dot(a, b)  \n",
    "        else:\n",
    "            raise ValueError(\"Number of columns in A must equal number of rows in B for multiplication.\")\n",
    "    \n",
    "    else:\n",
    "        raise ValueError(\"Invalid operation. Use 'add' or 'multiply'.\")\n",
    "\n",
    "v3 = np.arange(1, 10).reshape(3, 3)\n",
    "v4 = np.arange(1, 10).reshape(3, 3)\n",
    "\n",
    "print(\"V3:\", v3)\n",
    "print(\"\")\n",
    "print(\"V4:\", v4)\n",
    "print(\"\")\n",
    "print(add_mult_matrices(v3, v4, \"add\"))\n",
    "print(\"\")\n",
    "print(add_mult_matrices(v3, v4, \"multiply\"))\n",
    "print(\"\")\n",
    "\n",
    "v5 = np.arange(1, 7).reshape(2, 3)\n",
    "v6 = np.arange(5,14).reshape(3, 3)\n",
    "\n",
    "print(\"V5:\", v5)\n",
    "print(\"\")\n",
    "print(\"V6:\", v6)\n",
    "print(\"\")\n",
    "(print(add_mult_matrices(v5, v6, \"multiply\")))"
   ]
  },
  {
   "cell_type": "code",
   "execution_count": null,
   "id": "a4dd3493",
   "metadata": {},
   "outputs": [],
   "source": [
    "#def add_mult_matrices(a, b, c):\n",
    "  #  a_rows, a_cols = a.shape\n",
    "   # b_rows, b_cols = b.shape\n",
    "    \n",
    "  #  if a and b != isinstance(np.ndarray()):\n",
    "   #     return TypeError\n",
    "  #  elif c == \"add\" and a.shape == b.shape:\n",
    "  #       return a+b\n",
    "  #  elif c == \"multiply\" and a_rows == b_cols:\n",
    "  #      return a*b\n",
    " #  else:\n",
    "  #      raise Exception(\"Check size of arrays and validate add or multiply argument\")\n",
    "    \n",
    "    \n",
    "#v3 = np.array[1,2,3]\n",
    "#v4 = np.array[2,3,4]\n",
    "\n",
    "#add_mult_matrices(v3, v4, \"add\")\n"
   ]
  },
  {
   "cell_type": "code",
   "execution_count": null,
   "id": "3506f977-ac0a-473f-85bc-eec9f35dc498",
   "metadata": {},
   "outputs": [],
   "source": [
    "##def add_mult_matrices(a, b, c):\n",
    "    #a_rows, a_cols = a.shape\n",
    "    #b_rows, b_cols = b.shape\n",
    "    \n",
    "    #if a and b == isinstance(np.ndarray()) and c == \"add\" and a.ndarray.size == b.ndarray.size:\n",
    "        #return a+b\n",
    "    #elif a and b == isinstance(np.ndarray() and c == \"multiply\") and a_rows == b_cols:\n",
    "        #return a*b\n",
    "    #else:\n",
    "       # raise Exception('Expected \"add\" or \"multiply\" as third argument')\n",
    "    \n",
    "\n",
    "##v3 = np.array[1,2,3]\n",
    "##v4 = np.array[2,3,4]\n",
    "\n",
    "##add_mult_matrices(v3, v4, \"add\")"
   ]
  },
  {
   "cell_type": "markdown",
   "id": "8dad82d0-2359-4dff-8f5b-a57d3e34103c",
   "metadata": {},
   "source": [
    "### Solve all the exercises in chapter 10.1 in the book \"Matematik för yrkeshögskolan\". "
   ]
  },
  {
   "cell_type": "code",
   "execution_count": 21,
   "id": "20a5852d",
   "metadata": {},
   "outputs": [
    {
     "name": "stdout",
     "output_type": "stream",
     "text": [
      "[20 15]\n",
      "[12  9]\n",
      "[32 24]\n",
      "[32 24]\n",
      "[12  9]\n",
      "5.0\n",
      "[[ 3]\n",
      " [ 7]\n",
      " [ 0]\n",
      " [11]]\n",
      "[[ 6]\n",
      " [14]\n",
      " [ 0]\n",
      " [22]]\n",
      "[[21]\n",
      " [49]\n",
      " [ 0]\n",
      " [77]]\n",
      "[[ 6]\n",
      " [14]\n",
      " [ 0]\n",
      " [22]]\n",
      "[[ 3  7  0 11]]\n",
      "13.379088160259652\n",
      "7.14142842854285\n",
      "4.47213595499958\n"
     ]
    }
   ],
   "source": [
    "##Övningsuppgifter 10.1.1\n",
    "\n",
    "x = np.array([4, 3])\n",
    "\n",
    "#a) Dimension 1x2\n",
    "#b)\n",
    "print(5*x)\n",
    "#c)\n",
    "print(3*x)\n",
    "#d)\n",
    "print((5 * x) + (3 * x))\n",
    "#e)\n",
    "print(8*x)\n",
    "#f)\n",
    "print((4 * x) - (x))\n",
    "#g) Dimension 2x1\n",
    "#h) Ej definierat\n",
    "#i)\n",
    "print(np.linalg.norm(x))\n",
    "\n",
    "\n",
    "##Övningsuppgifter 10.1.2\n",
    "\n",
    "v = np.array([3,7,0,11]).reshape(4,1)\n",
    "print(v)\n",
    "#a) Dimension 4x1\n",
    "#b)\n",
    "print(v * 2)\n",
    "#c)\n",
    "print((5*v) + (2*v))\n",
    "#d)\n",
    "print((4*v) - (2*v))\n",
    "#e) Nya dimension blir 1x4\n",
    "print(np.transpose(v))\n",
    "#f)\n",
    "print(np.linalg.norm(v))\n",
    "\n",
    "##Övningsuppgifter 10.1.3\n",
    "v1 = np.array([4,3,1,5])\n",
    "v2 = np.array([2,3,1,1])\n",
    "#a)\n",
    "print(np.linalg.norm(v1))\n",
    "#b)\n",
    "print(np.linalg.norm((v1-v2)))"
   ]
  },
  {
   "cell_type": "markdown",
   "id": "75c98984-1f88-4df1-b850-d2466de444a5",
   "metadata": {},
   "source": [
    "### Solve all the exercises, except 10.2.4, in chapter 10.2 in the book \"Matematik för yrkeshögskolan\". "
   ]
  },
  {
   "cell_type": "code",
   "execution_count": 46,
   "id": "cbc0ffdd",
   "metadata": {},
   "outputs": [
    {
     "name": "stdout",
     "output_type": "stream",
     "text": [
      "[[ 4  2 -2]\n",
      " [ 2 -2  2]]\n",
      "[[ 0 -4  3]\n",
      " [ 0 -2 -4]]\n",
      "[[ 9 12]\n",
      " [12  9]]\n",
      "[[-4 -4]\n",
      " [-4 -4]]\n",
      "[[11 10]\n",
      " [10 11]]\n",
      "[[  8 -10  -3]\n",
      " [ 10  -8   0]]\n",
      "[[1 2]\n",
      " [2 1]]\n",
      "[[5 2]\n",
      " [7 4]]\n",
      "[[29 26]\n",
      " [26 42]]\n",
      "True\n",
      "False\n"
     ]
    }
   ],
   "source": [
    "##Övningsuppgifter 10.2.1\n",
    "\n",
    "A = np.array([2,1,-1,1,-1,1]).reshape(2,3)\n",
    "B = np.array([4,-2,1,2,-4,-2]).reshape(2,3)\n",
    "C = np.array([1,2,2,1]).reshape(2,2)\n",
    "D = np.array([3,4,4,3]).reshape(2,2)\n",
    "E = np.array([1,2]).reshape(2,1)\n",
    "I = np.array([1,0,0,1]).reshape(2,2)\n",
    "\n",
    "#a)\n",
    "print(2*A)\n",
    "#b)\n",
    "print(B-(2*A))\n",
    "#c)\n",
    "#Ej Definerat\n",
    "#d)\n",
    "(2*D) - (3*C)\n",
    "#e)\n",
    "print(np.transpose(D) + (2*D))\n",
    "#f)\n",
    "print((2*np.transpose(C)-(2*np.transpose(D))))\n",
    "#g)\n",
    "#Ej Definerat\n",
    "#h)\n",
    "#Ej Definerat\n",
    "#i)\n",
    "print(C@D)\n",
    "#j)\n",
    "print(C@B)\n",
    "#k)\n",
    "print(C@I)\n",
    "#l)\n",
    "print(A@np.transpose(B))\n",
    "\n",
    "##Övningsuppgifter 10.2.2\n",
    "\n",
    "A2 = np.array([2,3,4,5,4,1]).reshape(2,3)\n",
    "\n",
    "print(A2@np.transpose(A2))\n",
    "\n",
    "##Övningsuppgifter 10.2.3\n",
    "\n",
    "A3 = np.array([1,2,2,4]).reshape(2,2)\n",
    "B2 = np.array([2,1,1,3]).reshape(2,2)\n",
    "C2 = np.array([4,3,0,2]).reshape(2,2)\n",
    "\n",
    "result1 = A3@B2\n",
    "result2 = A3@C2\n",
    "\n",
    "if  np.array_equal(result1, result2):\n",
    "    print(\"True\")\n",
    "else:\n",
    "    print(\"False\")\n",
    "    \n",
    "if np.array_equal(B2, C2):\n",
    "    print(\"True\")\n",
    "else:\n",
    "    print(\"False\")"
   ]
  },
  {
   "cell_type": "markdown",
   "id": "6a4a524f",
   "metadata": {},
   "source": [
    "### Copies and Views\n",
    "Read the following link: https://numpy.org/doc/stable/user/basics.copies.html"
   ]
  },
  {
   "cell_type": "markdown",
   "id": "6cbbeaf7",
   "metadata": {},
   "source": [
    "**Basic indexing creates a view, How can you check if v1 and v2 is a view or copy? If you change the last element in v2 to 123, will the last element in v1 be changed? Why?**"
   ]
  },
  {
   "cell_type": "code",
   "execution_count": 132,
   "id": "5b9ef4df",
   "metadata": {},
   "outputs": [
    {
     "name": "stdout",
     "output_type": "stream",
     "text": [
      "[0 1 2 3]\n",
      "[2 3]\n",
      "[  2 123]\n",
      "[  0   1   2 123]\n",
      "None\n",
      "[  0   1   2 123]\n",
      "True\n"
     ]
    }
   ],
   "source": [
    "v1 = np.arange(4)\n",
    "v2 = v1[-2:]\n",
    "print(v1)\n",
    "print(v2)\n",
    "\n",
    "v2[-1] = 123\n",
    "print(v2)\n",
    "print(v1)\n",
    "\n",
    "print(v1.base)\n",
    "print(v2.base)\n",
    "print(np.may_share_memory(v1, v2))"
   ]
  },
  {
   "cell_type": "markdown",
   "id": "b7812dd6",
   "metadata": {},
   "source": [
    "Because v2 is not a separate copy and it is a view if v1. When we set v2[-1] = 123 we are actually changing v1[3]"
   ]
  },
  {
   "cell_type": "code",
   "execution_count": 131,
   "id": "d2440489",
   "metadata": {},
   "outputs": [
    {
     "name": "stdout",
     "output_type": "stream",
     "text": [
      "None\n",
      "[  0   1   2 123]\n"
     ]
    }
   ],
   "source": [
    "# The base attribute of a view returns the original array while it returns None for a copy.\n",
    "print(v1.base)\n",
    "print(v2.base)"
   ]
  },
  {
   "cell_type": "code",
   "execution_count": 133,
   "id": "c8752807",
   "metadata": {},
   "outputs": [
    {
     "name": "stdout",
     "output_type": "stream",
     "text": [
      "[  0   1   2 123]\n",
      "[  2 123]\n"
     ]
    }
   ],
   "source": [
    "# The last element in v1 will be changed aswell since v2 is a view, meaning they share the same data buffer.\n",
    "v2[-1] = 123\n",
    "print(v1)\n",
    "print(v2)"
   ]
  }
 ],
 "metadata": {
  "kernelspec": {
   "display_name": "base",
   "language": "python",
   "name": "python3"
  },
  "language_info": {
   "codemirror_mode": {
    "name": "ipython",
    "version": 3
   },
   "file_extension": ".py",
   "mimetype": "text/x-python",
   "name": "python",
   "nbconvert_exporter": "python",
   "pygments_lexer": "ipython3",
   "version": "3.12.4"
  }
 },
 "nbformat": 4,
 "nbformat_minor": 5
}
